{
 "cells": [
  {
   "cell_type": "markdown",
   "source": [
    "# Classify MBTI personality type from text using Bag of Words\n",
    "\n",
    "Hyunsoo Kim\n",
    "\n",
    "2023-05-07"
   ],
   "metadata": {
    "collapsed": false
   }
  },
  {
   "cell_type": "code",
   "execution_count": 26,
   "metadata": {
    "ExecuteTime": {
     "start_time": "2023-05-07T18:58:32.582848Z",
     "end_time": "2023-05-07T18:58:32.601864Z"
    }
   },
   "outputs": [],
   "source": [
    "import random\n",
    "import re\n",
    "\n",
    "import nltk\n",
    "import numpy as np\n",
    "import pandas as pd\n",
    "from emoji import demojize\n",
    "from nltk.corpus import stopwords\n",
    "from nltk.stem import PorterStemmer\n",
    "from nltk.tokenize import word_tokenize\n",
    "from sklearn.feature_extraction.text import CountVectorizer\n",
    "from sklearn.metrics import accuracy_score\n",
    "from sklearn.model_selection import train_test_split\n",
    "from sklearn.linear_model import LogisticRegression\n",
    "from tqdm import tqdm"
   ]
  },
  {
   "cell_type": "code",
   "execution_count": 2,
   "outputs": [
    {
     "name": "stderr",
     "output_type": "stream",
     "text": [
      "[nltk_data] Downloading package stopwords to\n",
      "[nltk_data]     C:\\Users\\DIAL\\AppData\\Roaming\\nltk_data...\n",
      "[nltk_data]   Package stopwords is already up-to-date!\n",
      "[nltk_data] Downloading package punkt to\n",
      "[nltk_data]     C:\\Users\\DIAL\\AppData\\Roaming\\nltk_data...\n",
      "[nltk_data]   Package punkt is already up-to-date!\n"
     ]
    }
   ],
   "source": [
    "nltk.download(\"stopwords\")\n",
    "nltk.download(\"punkt\")\n",
    "\n",
    "stop_words = set(stopwords.words(\"english\"))\n",
    "stemmer = PorterStemmer()"
   ],
   "metadata": {
    "collapsed": false,
    "ExecuteTime": {
     "start_time": "2023-05-07T16:21:18.409791Z",
     "end_time": "2023-05-07T16:21:18.519038Z"
    }
   }
  },
  {
   "cell_type": "code",
   "execution_count": 3,
   "metadata": {
    "ExecuteTime": {
     "start_time": "2023-05-07T16:21:18.519038Z",
     "end_time": "2023-05-07T16:21:18.548605Z"
    }
   },
   "outputs": [],
   "source": [
    "seed = 42"
   ]
  },
  {
   "cell_type": "code",
   "execution_count": 4,
   "metadata": {
    "ExecuteTime": {
     "start_time": "2023-05-07T16:21:18.534597Z",
     "end_time": "2023-05-07T16:21:18.563605Z"
    }
   },
   "outputs": [],
   "source": [
    "random.seed(seed)\n",
    "np.random.seed(seed)"
   ]
  },
  {
   "cell_type": "markdown",
   "source": [
    "## Load dataset\n",
    "\n",
    "Here, I use two datasets:\n",
    "1. [(MBTI) Myers-Briggs Personality Type Dataset](https://www.kaggle.com/datasets/datasnaek/mbti-type)\n",
    "2. [MBTI Personality Type Twitter Dataset](https://www.kaggle.com/datasets/mazlumi/mbti-personality-type-twitter-dataset)\n",
    "\n",
    "I will refer to each dataset as `dataset1` and `dataset2`, respectively."
   ],
   "metadata": {
    "collapsed": false
   }
  },
  {
   "cell_type": "code",
   "execution_count": 5,
   "outputs": [],
   "source": [
    "dataset1 = pd.read_csv(\"mbti_1.csv\")\n",
    "dataset2 = pd.read_csv(\"twitter_MBTI.csv\")\n",
    "dataset2.drop(columns=\"Unnamed: 0\", inplace=True)"
   ],
   "metadata": {
    "collapsed": false,
    "ExecuteTime": {
     "start_time": "2023-05-07T16:21:18.551607Z",
     "end_time": "2023-05-07T16:21:19.688012Z"
    }
   }
  },
  {
   "cell_type": "code",
   "execution_count": 6,
   "outputs": [
    {
     "data": {
      "text/plain": "   type                                              posts\n0  INFJ  'http://www.youtube.com/watch?v=qsXHcwe3krw|||...\n1  ENTP  'I'm finding the lack of me in these posts ver...\n2  INTP  'Good one  _____   https://www.youtube.com/wat...",
      "text/html": "<div>\n<style scoped>\n    .dataframe tbody tr th:only-of-type {\n        vertical-align: middle;\n    }\n\n    .dataframe tbody tr th {\n        vertical-align: top;\n    }\n\n    .dataframe thead th {\n        text-align: right;\n    }\n</style>\n<table border=\"1\" class=\"dataframe\">\n  <thead>\n    <tr style=\"text-align: right;\">\n      <th></th>\n      <th>type</th>\n      <th>posts</th>\n    </tr>\n  </thead>\n  <tbody>\n    <tr>\n      <th>0</th>\n      <td>INFJ</td>\n      <td>'http://www.youtube.com/watch?v=qsXHcwe3krw|||...</td>\n    </tr>\n    <tr>\n      <th>1</th>\n      <td>ENTP</td>\n      <td>'I'm finding the lack of me in these posts ver...</td>\n    </tr>\n    <tr>\n      <th>2</th>\n      <td>INTP</td>\n      <td>'Good one  _____   https://www.youtube.com/wat...</td>\n    </tr>\n  </tbody>\n</table>\n</div>"
     },
     "execution_count": 6,
     "metadata": {},
     "output_type": "execute_result"
    }
   ],
   "source": [
    "dataset1.head(3)"
   ],
   "metadata": {
    "collapsed": false,
    "ExecuteTime": {
     "start_time": "2023-05-07T16:21:19.690407Z",
     "end_time": "2023-05-07T16:21:19.702678Z"
    }
   }
  },
  {
   "cell_type": "code",
   "execution_count": 7,
   "outputs": [
    {
     "data": {
      "text/plain": "                                                text label\n0  @Pericles216 @HierBeforeTheAC @Sachinettiyil T...  intj\n1  @Hispanthicckk Being you makes you look cute||...  intj\n2  @Alshymi Les balles sont réelles et sont tirée...  intj",
      "text/html": "<div>\n<style scoped>\n    .dataframe tbody tr th:only-of-type {\n        vertical-align: middle;\n    }\n\n    .dataframe tbody tr th {\n        vertical-align: top;\n    }\n\n    .dataframe thead th {\n        text-align: right;\n    }\n</style>\n<table border=\"1\" class=\"dataframe\">\n  <thead>\n    <tr style=\"text-align: right;\">\n      <th></th>\n      <th>text</th>\n      <th>label</th>\n    </tr>\n  </thead>\n  <tbody>\n    <tr>\n      <th>0</th>\n      <td>@Pericles216 @HierBeforeTheAC @Sachinettiyil T...</td>\n      <td>intj</td>\n    </tr>\n    <tr>\n      <th>1</th>\n      <td>@Hispanthicckk Being you makes you look cute||...</td>\n      <td>intj</td>\n    </tr>\n    <tr>\n      <th>2</th>\n      <td>@Alshymi Les balles sont réelles et sont tirée...</td>\n      <td>intj</td>\n    </tr>\n  </tbody>\n</table>\n</div>"
     },
     "execution_count": 7,
     "metadata": {},
     "output_type": "execute_result"
    }
   ],
   "source": [
    "dataset2.head(3)"
   ],
   "metadata": {
    "collapsed": false,
    "ExecuteTime": {
     "start_time": "2023-05-07T16:21:19.703679Z",
     "end_time": "2023-05-07T16:21:19.723812Z"
    }
   }
  },
  {
   "cell_type": "markdown",
   "source": [
    "Two datasets have different columns. I will rename the columns of `dataset2` to match those of `dataset1`.\n",
    "\n",
    "Also, I capitalize the MBTI types in `dataset2` to match those of `dataset1`."
   ],
   "metadata": {
    "collapsed": false
   }
  },
  {
   "cell_type": "code",
   "execution_count": 8,
   "outputs": [
    {
     "data": {
      "text/plain": "                                               posts  type\n0  @Pericles216 @HierBeforeTheAC @Sachinettiyil T...  INTJ\n1  @Hispanthicckk Being you makes you look cute||...  INTJ\n2  @Alshymi Les balles sont réelles et sont tirée...  INTJ",
      "text/html": "<div>\n<style scoped>\n    .dataframe tbody tr th:only-of-type {\n        vertical-align: middle;\n    }\n\n    .dataframe tbody tr th {\n        vertical-align: top;\n    }\n\n    .dataframe thead th {\n        text-align: right;\n    }\n</style>\n<table border=\"1\" class=\"dataframe\">\n  <thead>\n    <tr style=\"text-align: right;\">\n      <th></th>\n      <th>posts</th>\n      <th>type</th>\n    </tr>\n  </thead>\n  <tbody>\n    <tr>\n      <th>0</th>\n      <td>@Pericles216 @HierBeforeTheAC @Sachinettiyil T...</td>\n      <td>INTJ</td>\n    </tr>\n    <tr>\n      <th>1</th>\n      <td>@Hispanthicckk Being you makes you look cute||...</td>\n      <td>INTJ</td>\n    </tr>\n    <tr>\n      <th>2</th>\n      <td>@Alshymi Les balles sont réelles et sont tirée...</td>\n      <td>INTJ</td>\n    </tr>\n  </tbody>\n</table>\n</div>"
     },
     "execution_count": 8,
     "metadata": {},
     "output_type": "execute_result"
    }
   ],
   "source": [
    "dataset2.rename(columns={\"text\": \"posts\", \"label\": \"type\"}, inplace=True)\n",
    "dataset2[\"type\"] = dataset2[\"type\"].apply(str.upper)\n",
    "\n",
    "dataset2.head(3)"
   ],
   "metadata": {
    "collapsed": false,
    "ExecuteTime": {
     "start_time": "2023-05-07T16:21:19.719662Z",
     "end_time": "2023-05-07T16:21:19.778240Z"
    }
   }
  },
  {
   "cell_type": "markdown",
   "source": [
    "Now, I concatenate the two datasets."
   ],
   "metadata": {
    "collapsed": false
   }
  },
  {
   "cell_type": "code",
   "execution_count": 9,
   "outputs": [
    {
     "data": {
      "text/plain": "         type                                              posts\ncount   16486                                              16486\nunique     16                                              16256\ntop      INFP  @AzurLane_EN No Shinano rerun yet, huh?|||@ASM...\nfreq     3114                                                  2",
      "text/html": "<div>\n<style scoped>\n    .dataframe tbody tr th:only-of-type {\n        vertical-align: middle;\n    }\n\n    .dataframe tbody tr th {\n        vertical-align: top;\n    }\n\n    .dataframe thead th {\n        text-align: right;\n    }\n</style>\n<table border=\"1\" class=\"dataframe\">\n  <thead>\n    <tr style=\"text-align: right;\">\n      <th></th>\n      <th>type</th>\n      <th>posts</th>\n    </tr>\n  </thead>\n  <tbody>\n    <tr>\n      <th>count</th>\n      <td>16486</td>\n      <td>16486</td>\n    </tr>\n    <tr>\n      <th>unique</th>\n      <td>16</td>\n      <td>16256</td>\n    </tr>\n    <tr>\n      <th>top</th>\n      <td>INFP</td>\n      <td>@AzurLane_EN No Shinano rerun yet, huh?|||@ASM...</td>\n    </tr>\n    <tr>\n      <th>freq</th>\n      <td>3114</td>\n      <td>2</td>\n    </tr>\n  </tbody>\n</table>\n</div>"
     },
     "execution_count": 9,
     "metadata": {},
     "output_type": "execute_result"
    }
   ],
   "source": [
    "dataset = pd.concat([dataset1, dataset2], ignore_index=True)\n",
    "dataset.describe()"
   ],
   "metadata": {
    "collapsed": false,
    "ExecuteTime": {
     "start_time": "2023-05-07T16:21:19.734812Z",
     "end_time": "2023-05-07T16:21:19.875372Z"
    }
   }
  },
  {
   "cell_type": "markdown",
   "source": [
    "### Dataset Preprocessing\n",
    "\n",
    "I will preprocess the dataset as follows:\n",
    "1. Remove URLs\n",
    "2. Remove mentions (@)\n",
    "3. Replace emojis with text\n",
    "4. Remove non-alphabetic characters (including digits)\n",
    "5. Remove duplicate posts"
   ],
   "metadata": {
    "collapsed": false
   }
  },
  {
   "cell_type": "code",
   "execution_count": 10,
   "outputs": [],
   "source": [
    "def replace_contractions(text):\n",
    "\ttext = text.replace(r\"n\\\"t\", \" not\")\n",
    "\ttext = text.replace(r\"\\\"m\", \" am\")\n",
    "\ttext = text.replace(r\"\\\"re\", \" are\")\n",
    "\ttext = text.replace(r\"\\\"ve\", \" have\")\n",
    "\ttext = text.replace(r\"\\\"ll\", \" will\")\n",
    "\ttext = text.replace(r\"\\\"d\", \" would\")\n",
    "\n",
    "\treturn text"
   ],
   "metadata": {
    "collapsed": false,
    "ExecuteTime": {
     "start_time": "2023-05-07T16:21:19.876371Z",
     "end_time": "2023-05-07T16:21:19.905182Z"
    }
   }
  },
  {
   "cell_type": "code",
   "execution_count": 11,
   "outputs": [],
   "source": [
    "def preprocess(text):\n",
    "\ttext = text.lower()\n",
    "\n",
    "\t# Remove emails\n",
    "\ttext = re.sub(r\"[a-zA-Z0-9._%+-]+@[a-zA-Z0-9.-]+\\.[a-zA-Z]{2,}\", \"\", text).strip()\n",
    "\n",
    "\t# Remove URLs\n",
    "\ttext = re.sub(\n",
    "\t\tr\"(https?://)?(www\\.)?[a-zA-Z0-9](?:[a-zA-Z0-9-]{0,61}[a-zA-Z0-9])?(?:\\.[a-zA-Z0-9](?:[a-zA-Z0-9-]\"\n",
    "\t\tr\"{0,61}[a-zA-Z0-9])?)+(?:/.*)?\",\n",
    "\t\t\"\",\n",
    "\t\ttext,\n",
    "\t).strip()\n",
    "\n",
    "\t# Remove mentions\n",
    "\ttext = re.sub(r\"@[a-zA-Z0-9_]+\", \"\", text).strip()\n",
    "\n",
    "\t# Replace emojis with text\n",
    "\ttext = demojize(text)\n",
    "\n",
    "\t# Remove non-alphabetic characters\n",
    "\ttext = re.sub(r\"[^\\w\\s]\", \"\", text).strip()\n",
    "\ttext = re.sub(r\"\\d+\", \"\", text).strip()\n",
    "\n",
    "\t# Replace repetitive whitespace characters with a single space\n",
    "\ttext = re.sub(r\"\\s+\", \" \", text).strip()\n",
    "\n",
    "\ttext = replace_contractions(text)\n",
    "\n",
    "\ttokens = word_tokenize(text)\n",
    "\ttokens = [stemmer.stem(token) for token in tokens if token not in stop_words]\n",
    "\ttext = \" \".join(tokens)\n",
    "\n",
    "\treturn text"
   ],
   "metadata": {
    "collapsed": false,
    "ExecuteTime": {
     "start_time": "2023-05-07T16:21:19.890177Z",
     "end_time": "2023-05-07T16:21:19.936400Z"
    }
   }
  },
  {
   "cell_type": "markdown",
   "source": [
    "Posts are separated by `|||`. I will split them into lists, and then expand them into rows."
   ],
   "metadata": {
    "collapsed": false
   }
  },
  {
   "cell_type": "code",
   "execution_count": 12,
   "outputs": [
    {
     "data": {
      "text/plain": "           type    posts\ncount   1516044  1516044\nunique       16  1440590\ntop        INFP         \nfreq     263265     8899",
      "text/html": "<div>\n<style scoped>\n    .dataframe tbody tr th:only-of-type {\n        vertical-align: middle;\n    }\n\n    .dataframe tbody tr th {\n        vertical-align: top;\n    }\n\n    .dataframe thead th {\n        text-align: right;\n    }\n</style>\n<table border=\"1\" class=\"dataframe\">\n  <thead>\n    <tr style=\"text-align: right;\">\n      <th></th>\n      <th>type</th>\n      <th>posts</th>\n    </tr>\n  </thead>\n  <tbody>\n    <tr>\n      <th>count</th>\n      <td>1516044</td>\n      <td>1516044</td>\n    </tr>\n    <tr>\n      <th>unique</th>\n      <td>16</td>\n      <td>1440590</td>\n    </tr>\n    <tr>\n      <th>top</th>\n      <td>INFP</td>\n      <td></td>\n    </tr>\n    <tr>\n      <th>freq</th>\n      <td>263265</td>\n      <td>8899</td>\n    </tr>\n  </tbody>\n</table>\n</div>"
     },
     "execution_count": 12,
     "metadata": {},
     "output_type": "execute_result"
    }
   ],
   "source": [
    "dataset[\"posts\"] = dataset[\"posts\"].apply(lambda x: x.split(\"|||\"))\n",
    "dataset = dataset.explode(\"posts\").reset_index(drop=True)\n",
    "dataset.describe()"
   ],
   "metadata": {
    "collapsed": false,
    "ExecuteTime": {
     "start_time": "2023-05-07T16:21:19.907567Z",
     "end_time": "2023-05-07T16:21:21.492174Z"
    }
   }
  },
  {
   "cell_type": "markdown",
   "source": [
    "Now I apply the preprocessing function to the posts. I also prune the posts that are too short."
   ],
   "metadata": {
    "collapsed": false
   }
  },
  {
   "cell_type": "code",
   "execution_count": 13,
   "outputs": [
    {
     "name": "stderr",
     "output_type": "stream",
     "text": [
      "Preprocessing: 100%|██████████| 1516044/1516044 [04:48<00:00, 5253.88it/s]\n"
     ]
    }
   ],
   "source": [
    "tqdm.pandas(desc=\"Preprocessing\")\n",
    "dataset[\"posts\"] = dataset[\"posts\"].apply(replace_contractions)\n",
    "dataset[\"posts\"] = dataset[\"posts\"].progress_apply(preprocess)"
   ],
   "metadata": {
    "collapsed": false,
    "ExecuteTime": {
     "start_time": "2023-05-07T16:21:21.495177Z",
     "end_time": "2023-05-07T16:26:11.315435Z"
    }
   }
  },
  {
   "cell_type": "code",
   "execution_count": 14,
   "outputs": [
    {
     "data": {
      "text/plain": "           type              posts\ncount   1115050            1115050\nunique       16            1048894\ntop        INFP  loudly_crying_fac\nfreq     195833                626",
      "text/html": "<div>\n<style scoped>\n    .dataframe tbody tr th:only-of-type {\n        vertical-align: middle;\n    }\n\n    .dataframe tbody tr th {\n        vertical-align: top;\n    }\n\n    .dataframe thead th {\n        text-align: right;\n    }\n</style>\n<table border=\"1\" class=\"dataframe\">\n  <thead>\n    <tr style=\"text-align: right;\">\n      <th></th>\n      <th>type</th>\n      <th>posts</th>\n    </tr>\n  </thead>\n  <tbody>\n    <tr>\n      <th>count</th>\n      <td>1115050</td>\n      <td>1115050</td>\n    </tr>\n    <tr>\n      <th>unique</th>\n      <td>16</td>\n      <td>1048894</td>\n    </tr>\n    <tr>\n      <th>top</th>\n      <td>INFP</td>\n      <td>loudly_crying_fac</td>\n    </tr>\n    <tr>\n      <th>freq</th>\n      <td>195833</td>\n      <td>626</td>\n    </tr>\n  </tbody>\n</table>\n</div>"
     },
     "execution_count": 14,
     "metadata": {},
     "output_type": "execute_result"
    }
   ],
   "source": [
    "dataset = dataset[dataset[\"posts\"].str.len() > 16]\n",
    "dataset.describe()"
   ],
   "metadata": {
    "collapsed": false,
    "ExecuteTime": {
     "start_time": "2023-05-07T16:26:11.317800Z",
     "end_time": "2023-05-07T16:26:12.237252Z"
    }
   }
  },
  {
   "cell_type": "markdown",
   "source": [
    "There seems to be some duplicate posts. I will remove them."
   ],
   "metadata": {
    "collapsed": false
   }
  },
  {
   "cell_type": "code",
   "execution_count": 15,
   "outputs": [
    {
     "data": {
      "text/plain": "           type                  posts\ncount   1048894                1048894\nunique       16                1048894\ntop        INFP  lifechang experi life\nfreq     184454                      1",
      "text/html": "<div>\n<style scoped>\n    .dataframe tbody tr th:only-of-type {\n        vertical-align: middle;\n    }\n\n    .dataframe tbody tr th {\n        vertical-align: top;\n    }\n\n    .dataframe thead th {\n        text-align: right;\n    }\n</style>\n<table border=\"1\" class=\"dataframe\">\n  <thead>\n    <tr style=\"text-align: right;\">\n      <th></th>\n      <th>type</th>\n      <th>posts</th>\n    </tr>\n  </thead>\n  <tbody>\n    <tr>\n      <th>count</th>\n      <td>1048894</td>\n      <td>1048894</td>\n    </tr>\n    <tr>\n      <th>unique</th>\n      <td>16</td>\n      <td>1048894</td>\n    </tr>\n    <tr>\n      <th>top</th>\n      <td>INFP</td>\n      <td>lifechang experi life</td>\n    </tr>\n    <tr>\n      <th>freq</th>\n      <td>184454</td>\n      <td>1</td>\n    </tr>\n  </tbody>\n</table>\n</div>"
     },
     "execution_count": 15,
     "metadata": {},
     "output_type": "execute_result"
    }
   ],
   "source": [
    "dataset.drop_duplicates(subset=\"posts\", inplace=True)\n",
    "dataset.describe()"
   ],
   "metadata": {
    "collapsed": false,
    "ExecuteTime": {
     "start_time": "2023-05-07T16:26:12.238240Z",
     "end_time": "2023-05-07T16:26:12.883150Z"
    }
   }
  },
  {
   "cell_type": "code",
   "execution_count": 16,
   "outputs": [
    {
     "data": {
      "text/plain": "count    1.048894e+06\nmean     6.165353e+01\nstd      3.717045e+01\nmin      1.700000e+01\n25%      3.300000e+01\n50%      5.500000e+01\n75%      8.800000e+01\nmax      2.665000e+03\nName: posts, dtype: float64"
     },
     "execution_count": 16,
     "metadata": {},
     "output_type": "execute_result"
    }
   ],
   "source": [
    "dataset[\"posts\"].apply(len).describe()"
   ],
   "metadata": {
    "collapsed": false,
    "ExecuteTime": {
     "start_time": "2023-05-07T16:26:12.884150Z",
     "end_time": "2023-05-07T16:26:13.056608Z"
    }
   }
  },
  {
   "cell_type": "markdown",
   "source": [
    "Create one-hot encoded vectors for the MBTI types."
   ],
   "metadata": {
    "collapsed": false
   }
  },
  {
   "cell_type": "code",
   "execution_count": 17,
   "outputs": [
    {
     "data": {
      "text/plain": "   type                                              posts  E_I  S_N  T_F  J_P\n3  INFJ                              lifechang experi life    1    1    1    0\n5  INFJ                             may perc experi immers    1    1    1    0\n6  INFJ  last thing infj friend post facebook commit su...    1    1    1    0",
      "text/html": "<div>\n<style scoped>\n    .dataframe tbody tr th:only-of-type {\n        vertical-align: middle;\n    }\n\n    .dataframe tbody tr th {\n        vertical-align: top;\n    }\n\n    .dataframe thead th {\n        text-align: right;\n    }\n</style>\n<table border=\"1\" class=\"dataframe\">\n  <thead>\n    <tr style=\"text-align: right;\">\n      <th></th>\n      <th>type</th>\n      <th>posts</th>\n      <th>E_I</th>\n      <th>S_N</th>\n      <th>T_F</th>\n      <th>J_P</th>\n    </tr>\n  </thead>\n  <tbody>\n    <tr>\n      <th>3</th>\n      <td>INFJ</td>\n      <td>lifechang experi life</td>\n      <td>1</td>\n      <td>1</td>\n      <td>1</td>\n      <td>0</td>\n    </tr>\n    <tr>\n      <th>5</th>\n      <td>INFJ</td>\n      <td>may perc experi immers</td>\n      <td>1</td>\n      <td>1</td>\n      <td>1</td>\n      <td>0</td>\n    </tr>\n    <tr>\n      <th>6</th>\n      <td>INFJ</td>\n      <td>last thing infj friend post facebook commit su...</td>\n      <td>1</td>\n      <td>1</td>\n      <td>1</td>\n      <td>0</td>\n    </tr>\n  </tbody>\n</table>\n</div>"
     },
     "execution_count": 17,
     "metadata": {},
     "output_type": "execute_result"
    }
   ],
   "source": [
    "dataset[\"E_I\"] = dataset[\"type\"].apply(lambda x: 0 if x[0] == \"E\" else 1)\n",
    "dataset[\"S_N\"] = dataset[\"type\"].apply(lambda x: 0 if x[1] == \"S\" else 1)\n",
    "dataset[\"T_F\"] = dataset[\"type\"].apply(lambda x: 0 if x[2] == \"T\" else 1)\n",
    "dataset[\"J_P\"] = dataset[\"type\"].apply(lambda x: 0 if x[3] == \"J\" else 1)\n",
    "dataset.head(3)"
   ],
   "metadata": {
    "collapsed": false,
    "ExecuteTime": {
     "start_time": "2023-05-07T16:26:13.057608Z",
     "end_time": "2023-05-07T16:26:13.878015Z"
    }
   }
  },
  {
   "cell_type": "code",
   "execution_count": 18,
   "outputs": [],
   "source": [
    "# Split dataset\n",
    "X_train, X_test, y_train, y_test = train_test_split(dataset[\"posts\"], dataset[\n",
    "\t[\"E_I\", \"S_N\", \"T_F\", \"J_P\"]\n",
    "], test_size=0.2, random_state=42)"
   ],
   "metadata": {
    "collapsed": false,
    "ExecuteTime": {
     "start_time": "2023-05-07T16:26:13.878015Z",
     "end_time": "2023-05-07T16:26:14.033727Z"
    }
   }
  },
  {
   "cell_type": "code",
   "execution_count": 35,
   "outputs": [
    {
     "data": {
      "text/plain": "                 E_I            S_N            T_F            J_P\ncount  209779.000000  209779.000000  209779.000000  209779.000000\nmean        0.700189       0.807407       0.570491       0.566596\nstd         0.458176       0.394337       0.495007       0.495546\nmin         0.000000       0.000000       0.000000       0.000000\n25%         0.000000       1.000000       0.000000       0.000000\n50%         1.000000       1.000000       1.000000       1.000000\n75%         1.000000       1.000000       1.000000       1.000000\nmax         1.000000       1.000000       1.000000       1.000000",
      "text/html": "<div>\n<style scoped>\n    .dataframe tbody tr th:only-of-type {\n        vertical-align: middle;\n    }\n\n    .dataframe tbody tr th {\n        vertical-align: top;\n    }\n\n    .dataframe thead th {\n        text-align: right;\n    }\n</style>\n<table border=\"1\" class=\"dataframe\">\n  <thead>\n    <tr style=\"text-align: right;\">\n      <th></th>\n      <th>E_I</th>\n      <th>S_N</th>\n      <th>T_F</th>\n      <th>J_P</th>\n    </tr>\n  </thead>\n  <tbody>\n    <tr>\n      <th>count</th>\n      <td>209779.000000</td>\n      <td>209779.000000</td>\n      <td>209779.000000</td>\n      <td>209779.000000</td>\n    </tr>\n    <tr>\n      <th>mean</th>\n      <td>0.700189</td>\n      <td>0.807407</td>\n      <td>0.570491</td>\n      <td>0.566596</td>\n    </tr>\n    <tr>\n      <th>std</th>\n      <td>0.458176</td>\n      <td>0.394337</td>\n      <td>0.495007</td>\n      <td>0.495546</td>\n    </tr>\n    <tr>\n      <th>min</th>\n      <td>0.000000</td>\n      <td>0.000000</td>\n      <td>0.000000</td>\n      <td>0.000000</td>\n    </tr>\n    <tr>\n      <th>25%</th>\n      <td>0.000000</td>\n      <td>1.000000</td>\n      <td>0.000000</td>\n      <td>0.000000</td>\n    </tr>\n    <tr>\n      <th>50%</th>\n      <td>1.000000</td>\n      <td>1.000000</td>\n      <td>1.000000</td>\n      <td>1.000000</td>\n    </tr>\n    <tr>\n      <th>75%</th>\n      <td>1.000000</td>\n      <td>1.000000</td>\n      <td>1.000000</td>\n      <td>1.000000</td>\n    </tr>\n    <tr>\n      <th>max</th>\n      <td>1.000000</td>\n      <td>1.000000</td>\n      <td>1.000000</td>\n      <td>1.000000</td>\n    </tr>\n  </tbody>\n</table>\n</div>"
     },
     "execution_count": 35,
     "metadata": {},
     "output_type": "execute_result"
    }
   ],
   "source": [
    "y_test.iloc[:, -4:].describe()"
   ],
   "metadata": {
    "collapsed": false,
    "ExecuteTime": {
     "start_time": "2023-05-07T19:03:43.324625Z",
     "end_time": "2023-05-07T19:03:43.354690Z"
    }
   }
  },
  {
   "cell_type": "markdown",
   "source": [
    "E: ~30% I: ~70%\n",
    "S: ~20% N: ~80%\n",
    "T: ~43% F: ~57%\n",
    "J: ~43.5% P: ~56.5%"
   ],
   "metadata": {
    "collapsed": false
   }
  },
  {
   "cell_type": "markdown",
   "source": [
    "## Bag of Words\n",
    "\n",
    "I will use Bag of Words to represent the posts as vectors."
   ],
   "metadata": {
    "collapsed": false
   }
  },
  {
   "cell_type": "code",
   "execution_count": 19,
   "outputs": [],
   "source": [
    "vectorizer = CountVectorizer()\n",
    "X_train_bow = vectorizer.fit_transform(X_train)\n",
    "X_test_bow = vectorizer.transform(X_test)"
   ],
   "metadata": {
    "collapsed": false,
    "ExecuteTime": {
     "start_time": "2023-05-07T16:26:14.049727Z",
     "end_time": "2023-05-07T16:26:20.645486Z"
    }
   }
  },
  {
   "cell_type": "code",
   "execution_count": 20,
   "outputs": [],
   "source": [
    "y_train_E_I = y_train[\"E_I\"].to_numpy()\n",
    "y_train_S_N = y_train[\"S_N\"].to_numpy()\n",
    "y_train_T_F = y_train[\"T_F\"].to_numpy()\n",
    "y_train_J_P = y_train[\"J_P\"].to_numpy()"
   ],
   "metadata": {
    "collapsed": false,
    "ExecuteTime": {
     "start_time": "2023-05-07T18:48:25.290521Z",
     "end_time": "2023-05-07T18:48:25.718200Z"
    }
   }
  },
  {
   "cell_type": "code",
   "execution_count": 22,
   "outputs": [
    {
     "data": {
      "text/plain": "278013"
     },
     "execution_count": 22,
     "metadata": {},
     "output_type": "execute_result"
    }
   ],
   "source": [
    "len(vectorizer.vocabulary_)"
   ],
   "metadata": {
    "collapsed": false,
    "ExecuteTime": {
     "start_time": "2023-05-07T18:48:38.323406Z",
     "end_time": "2023-05-07T18:48:38.338422Z"
    }
   }
  },
  {
   "cell_type": "code",
   "execution_count": 23,
   "outputs": [
    {
     "data": {
      "text/plain": "['that',\n 'okay',\n 'pleading_fac',\n 'good',\n 'bub',\n 'im',\n 'glad',\n 'follow',\n 'hehe',\n 'row']"
     },
     "execution_count": 23,
     "metadata": {},
     "output_type": "execute_result"
    }
   ],
   "source": [
    "list(vectorizer.vocabulary_.keys())[:10]"
   ],
   "metadata": {
    "collapsed": false,
    "ExecuteTime": {
     "start_time": "2023-05-07T18:48:38.333423Z",
     "end_time": "2023-05-07T18:48:38.393984Z"
    }
   }
  },
  {
   "cell_type": "code",
   "execution_count": 27,
   "outputs": [],
   "source": [
    "clf_E_I = LogisticRegression(verbose=2, max_iter=10_000)\n",
    "clf_S_N = LogisticRegression(verbose=2, max_iter=10_000)\n",
    "clf_T_F = LogisticRegression(verbose=2, max_iter=10_000)\n",
    "clf_J_P = LogisticRegression(verbose=2, max_iter=10_000)"
   ],
   "metadata": {
    "collapsed": false,
    "ExecuteTime": {
     "start_time": "2023-05-07T18:58:37.442337Z",
     "end_time": "2023-05-07T18:58:37.458337Z"
    }
   }
  },
  {
   "cell_type": "code",
   "execution_count": 28,
   "outputs": [
    {
     "name": "stderr",
     "output_type": "stream",
     "text": [
      "[Parallel(n_jobs=1)]: Using backend SequentialBackend with 1 concurrent workers.\n",
      "[Parallel(n_jobs=1)]: Done   1 out of   1 | elapsed:   50.7s remaining:    0.0s\n",
      "[Parallel(n_jobs=1)]: Done   1 out of   1 | elapsed:   50.7s finished\n",
      "[Parallel(n_jobs=1)]: Using backend SequentialBackend with 1 concurrent workers.\n",
      "[Parallel(n_jobs=1)]: Done   1 out of   1 | elapsed:   44.9s remaining:    0.0s\n",
      "[Parallel(n_jobs=1)]: Done   1 out of   1 | elapsed:   44.9s finished\n",
      "[Parallel(n_jobs=1)]: Using backend SequentialBackend with 1 concurrent workers.\n",
      "[Parallel(n_jobs=1)]: Done   1 out of   1 | elapsed:  1.0min remaining:    0.0s\n",
      "[Parallel(n_jobs=1)]: Done   1 out of   1 | elapsed:  1.0min finished\n",
      "[Parallel(n_jobs=1)]: Using backend SequentialBackend with 1 concurrent workers.\n",
      "[Parallel(n_jobs=1)]: Done   1 out of   1 | elapsed:   56.9s remaining:    0.0s\n",
      "[Parallel(n_jobs=1)]: Done   1 out of   1 | elapsed:   56.9s finished\n"
     ]
    },
    {
     "data": {
      "text/plain": "LogisticRegression(max_iter=10000, verbose=2)",
      "text/html": "<style>#sk-container-id-1 {color: black;background-color: white;}#sk-container-id-1 pre{padding: 0;}#sk-container-id-1 div.sk-toggleable {background-color: white;}#sk-container-id-1 label.sk-toggleable__label {cursor: pointer;display: block;width: 100%;margin-bottom: 0;padding: 0.3em;box-sizing: border-box;text-align: center;}#sk-container-id-1 label.sk-toggleable__label-arrow:before {content: \"▸\";float: left;margin-right: 0.25em;color: #696969;}#sk-container-id-1 label.sk-toggleable__label-arrow:hover:before {color: black;}#sk-container-id-1 div.sk-estimator:hover label.sk-toggleable__label-arrow:before {color: black;}#sk-container-id-1 div.sk-toggleable__content {max-height: 0;max-width: 0;overflow: hidden;text-align: left;background-color: #f0f8ff;}#sk-container-id-1 div.sk-toggleable__content pre {margin: 0.2em;color: black;border-radius: 0.25em;background-color: #f0f8ff;}#sk-container-id-1 input.sk-toggleable__control:checked~div.sk-toggleable__content {max-height: 200px;max-width: 100%;overflow: auto;}#sk-container-id-1 input.sk-toggleable__control:checked~label.sk-toggleable__label-arrow:before {content: \"▾\";}#sk-container-id-1 div.sk-estimator input.sk-toggleable__control:checked~label.sk-toggleable__label {background-color: #d4ebff;}#sk-container-id-1 div.sk-label input.sk-toggleable__control:checked~label.sk-toggleable__label {background-color: #d4ebff;}#sk-container-id-1 input.sk-hidden--visually {border: 0;clip: rect(1px 1px 1px 1px);clip: rect(1px, 1px, 1px, 1px);height: 1px;margin: -1px;overflow: hidden;padding: 0;position: absolute;width: 1px;}#sk-container-id-1 div.sk-estimator {font-family: monospace;background-color: #f0f8ff;border: 1px dotted black;border-radius: 0.25em;box-sizing: border-box;margin-bottom: 0.5em;}#sk-container-id-1 div.sk-estimator:hover {background-color: #d4ebff;}#sk-container-id-1 div.sk-parallel-item::after {content: \"\";width: 100%;border-bottom: 1px solid gray;flex-grow: 1;}#sk-container-id-1 div.sk-label:hover label.sk-toggleable__label {background-color: #d4ebff;}#sk-container-id-1 div.sk-serial::before {content: \"\";position: absolute;border-left: 1px solid gray;box-sizing: border-box;top: 0;bottom: 0;left: 50%;z-index: 0;}#sk-container-id-1 div.sk-serial {display: flex;flex-direction: column;align-items: center;background-color: white;padding-right: 0.2em;padding-left: 0.2em;position: relative;}#sk-container-id-1 div.sk-item {position: relative;z-index: 1;}#sk-container-id-1 div.sk-parallel {display: flex;align-items: stretch;justify-content: center;background-color: white;position: relative;}#sk-container-id-1 div.sk-item::before, #sk-container-id-1 div.sk-parallel-item::before {content: \"\";position: absolute;border-left: 1px solid gray;box-sizing: border-box;top: 0;bottom: 0;left: 50%;z-index: -1;}#sk-container-id-1 div.sk-parallel-item {display: flex;flex-direction: column;z-index: 1;position: relative;background-color: white;}#sk-container-id-1 div.sk-parallel-item:first-child::after {align-self: flex-end;width: 50%;}#sk-container-id-1 div.sk-parallel-item:last-child::after {align-self: flex-start;width: 50%;}#sk-container-id-1 div.sk-parallel-item:only-child::after {width: 0;}#sk-container-id-1 div.sk-dashed-wrapped {border: 1px dashed gray;margin: 0 0.4em 0.5em 0.4em;box-sizing: border-box;padding-bottom: 0.4em;background-color: white;}#sk-container-id-1 div.sk-label label {font-family: monospace;font-weight: bold;display: inline-block;line-height: 1.2em;}#sk-container-id-1 div.sk-label-container {text-align: center;}#sk-container-id-1 div.sk-container {/* jupyter's `normalize.less` sets `[hidden] { display: none; }` but bootstrap.min.css set `[hidden] { display: none !important; }` so we also need the `!important` here to be able to override the default hidden behavior on the sphinx rendered scikit-learn.org. See: https://github.com/scikit-learn/scikit-learn/issues/21755 */display: inline-block !important;position: relative;}#sk-container-id-1 div.sk-text-repr-fallback {display: none;}</style><div id=\"sk-container-id-1\" class=\"sk-top-container\"><div class=\"sk-text-repr-fallback\"><pre>LogisticRegression(max_iter=10000, verbose=2)</pre><b>In a Jupyter environment, please rerun this cell to show the HTML representation or trust the notebook. <br />On GitHub, the HTML representation is unable to render, please try loading this page with nbviewer.org.</b></div><div class=\"sk-container\" hidden><div class=\"sk-item\"><div class=\"sk-estimator sk-toggleable\"><input class=\"sk-toggleable__control sk-hidden--visually\" id=\"sk-estimator-id-1\" type=\"checkbox\" checked><label for=\"sk-estimator-id-1\" class=\"sk-toggleable__label sk-toggleable__label-arrow\">LogisticRegression</label><div class=\"sk-toggleable__content\"><pre>LogisticRegression(max_iter=10000, verbose=2)</pre></div></div></div></div></div>"
     },
     "execution_count": 28,
     "metadata": {},
     "output_type": "execute_result"
    }
   ],
   "source": [
    "clf_E_I.fit(X_train_bow, y_train_E_I)\n",
    "clf_S_N.fit(X_train_bow, y_train_S_N)\n",
    "clf_T_F.fit(X_train_bow, y_train_T_F)\n",
    "clf_J_P.fit(X_train_bow, y_train_J_P)"
   ],
   "metadata": {
    "collapsed": false,
    "ExecuteTime": {
     "start_time": "2023-05-07T18:58:37.453338Z",
     "end_time": "2023-05-07T19:02:11.617183Z"
    }
   }
  },
  {
   "cell_type": "markdown",
   "source": [
    "### Class-wise accuracy\n",
    "\n",
    "Each MBTI type is a class. I will calculate the accuracy for each class."
   ],
   "metadata": {
    "collapsed": false
   }
  },
  {
   "cell_type": "code",
   "execution_count": 29,
   "outputs": [],
   "source": [
    "y_pred_E_I = clf_E_I.predict(X_test_bow)\n",
    "y_pred_S_N = clf_S_N.predict(X_test_bow)\n",
    "y_pred_T_F = clf_T_F.predict(X_test_bow)\n",
    "y_pred_J_P = clf_J_P.predict(X_test_bow)"
   ],
   "metadata": {
    "collapsed": false,
    "ExecuteTime": {
     "start_time": "2023-05-07T19:02:11.618185Z",
     "end_time": "2023-05-07T19:02:11.663989Z"
    }
   }
  },
  {
   "cell_type": "code",
   "execution_count": 31,
   "outputs": [
    {
     "name": "stdout",
     "output_type": "stream",
     "text": [
      "E/I Accuracy: 0.7046606190324103\n",
      "S/N Accuracy: 0.8106054466843678\n",
      "T/F Accuracy: 0.6114005691704126\n",
      "J/P Accuracy: 0.5987014906163153\n"
     ]
    }
   ],
   "source": [
    "print(\"E/I Accuracy:\", accuracy_score(y_test[\"E_I\"], y_pred_E_I))\n",
    "print(\"S/N Accuracy:\", accuracy_score(y_test[\"S_N\"], y_pred_S_N))\n",
    "print(\"T/F Accuracy:\", accuracy_score(y_test[\"T_F\"], y_pred_T_F))\n",
    "print(\"J/P Accuracy:\", accuracy_score(y_test[\"J_P\"], y_pred_J_P))"
   ],
   "metadata": {
    "collapsed": false,
    "ExecuteTime": {
     "start_time": "2023-05-07T19:02:32.635213Z",
     "end_time": "2023-05-07T19:02:32.684065Z"
    }
   }
  },
  {
   "cell_type": "code",
   "execution_count": 37,
   "outputs": [
    {
     "data": {
      "text/plain": "0.9420914390858952"
     },
     "execution_count": 37,
     "metadata": {},
     "output_type": "execute_result"
    }
   ],
   "source": [
    "y_pred_E_I.sum() / len(y_pred_E_I)"
   ],
   "metadata": {
    "collapsed": false,
    "ExecuteTime": {
     "start_time": "2023-05-07T19:06:05.508703Z",
     "end_time": "2023-05-07T19:06:05.516704Z"
    }
   }
  },
  {
   "cell_type": "code",
   "execution_count": 38,
   "outputs": [
    {
     "data": {
      "text/plain": "0.9807845399205831"
     },
     "execution_count": 38,
     "metadata": {},
     "output_type": "execute_result"
    }
   ],
   "source": [
    "y_pred_S_N.sum() / len(y_pred_S_N)"
   ],
   "metadata": {
    "collapsed": false,
    "ExecuteTime": {
     "start_time": "2023-05-07T19:06:18.370071Z",
     "end_time": "2023-05-07T19:06:18.386945Z"
    }
   }
  },
  {
   "cell_type": "code",
   "execution_count": 39,
   "outputs": [
    {
     "data": {
      "text/plain": "0.7328617259115545"
     },
     "execution_count": 39,
     "metadata": {},
     "output_type": "execute_result"
    }
   ],
   "source": [
    "y_pred_T_F.sum() / len(y_pred_T_F)"
   ],
   "metadata": {
    "collapsed": false,
    "ExecuteTime": {
     "start_time": "2023-05-07T19:06:21.772671Z",
     "end_time": "2023-05-07T19:06:21.777672Z"
    }
   }
  },
  {
   "cell_type": "code",
   "execution_count": 40,
   "outputs": [
    {
     "data": {
      "text/plain": "0.7441926980298313"
     },
     "execution_count": 40,
     "metadata": {},
     "output_type": "execute_result"
    }
   ],
   "source": [
    "y_pred_J_P.sum() / len(y_pred_J_P)"
   ],
   "metadata": {
    "collapsed": false,
    "ExecuteTime": {
     "start_time": "2023-05-07T19:06:24.864990Z",
     "end_time": "2023-05-07T19:06:24.878103Z"
    }
   }
  },
  {
   "cell_type": "markdown",
   "source": [
    "As seen, the model is biased towards the majority class. This is expected, since the dataset is imbalanced."
   ],
   "metadata": {
    "collapsed": false
   }
  },
  {
   "cell_type": "markdown",
   "source": [
    "### MBTI type accuracy"
   ],
   "metadata": {
    "collapsed": false
   }
  },
  {
   "cell_type": "code",
   "execution_count": 41,
   "outputs": [
    {
     "data": {
      "text/plain": "(209779, 4)"
     },
     "execution_count": 41,
     "metadata": {},
     "output_type": "execute_result"
    }
   ],
   "source": [
    "y_pred = np.stack([y_pred_E_I, y_pred_S_N, y_pred_T_F, y_pred_J_P], axis=1)\n",
    "y_pred.shape"
   ],
   "metadata": {
    "collapsed": false,
    "ExecuteTime": {
     "start_time": "2023-05-07T19:07:24.191343Z",
     "end_time": "2023-05-07T19:07:24.199392Z"
    }
   }
  },
  {
   "cell_type": "code",
   "execution_count": 42,
   "outputs": [
    {
     "data": {
      "text/plain": "0.22177625024430472"
     },
     "execution_count": 42,
     "metadata": {},
     "output_type": "execute_result"
    }
   ],
   "source": [
    "accuracy_score(y_test.iloc[:, -4:], y_pred)"
   ],
   "metadata": {
    "collapsed": false,
    "ExecuteTime": {
     "start_time": "2023-05-07T19:07:33.016805Z",
     "end_time": "2023-05-07T19:07:33.083195Z"
    }
   }
  },
  {
   "cell_type": "code",
   "execution_count": 45,
   "outputs": [
    {
     "data": {
      "text/plain": "INFP    0.175856\nINFJ    0.150005\nINTP    0.118088\nINTJ    0.112447\nENFP    0.090590\nENTP    0.076559\nENFJ    0.051587\nISFP    0.038936\nISTP    0.038055\nISFJ    0.036900\nENTJ    0.033617\nISTJ    0.029867\nESFP    0.016211\nESTP    0.011612\nESFJ    0.010443\nESTJ    0.009227\nName: type, dtype: float64"
     },
     "execution_count": 45,
     "metadata": {},
     "output_type": "execute_result"
    }
   ],
   "source": [
    "dataset[\"type\"].value_counts(normalize=True)"
   ],
   "metadata": {
    "collapsed": false,
    "ExecuteTime": {
     "start_time": "2023-05-07T19:08:35.235528Z",
     "end_time": "2023-05-07T19:08:35.247071Z"
    }
   }
  },
  {
   "cell_type": "markdown",
   "source": [
    "The model only got 22% accuracy. This is not good, but it is better than random guessing (6.25%)."
   ],
   "metadata": {
    "collapsed": false
   }
  }
 ],
 "metadata": {
  "kernelspec": {
   "display_name": "Python 3 (ipykernel)",
   "language": "python",
   "name": "python3"
  },
  "language_info": {
   "codemirror_mode": {
    "name": "ipython",
    "version": 3
   },
   "file_extension": ".py",
   "mimetype": "text/x-python",
   "name": "python",
   "nbconvert_exporter": "python",
   "pygments_lexer": "ipython3",
   "version": "3.9.16"
  }
 },
 "nbformat": 4,
 "nbformat_minor": 4
}
